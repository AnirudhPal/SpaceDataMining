{
 "cells": [
  {
   "cell_type": "code",
   "execution_count": 23,
   "metadata": {
    "scrolled": false
   },
   "outputs": [
    {
     "name": "stdout",
     "output_type": "stream",
     "text": [
      "   VER  STIMEU  STIMEQ  DUR  STIMEL  ORBIT  NS  LAT  LATQ  EW  LON  LONQ  \\\n",
      "0  5.0    2000     0.0    0  1632.0      0   0    0   0.0   0  308   0.0   \n",
      "1  5.0     838     0.0    0  2138.0      0   0    0   0.0   0  195   0.0   \n",
      "2  5.0    1408     0.0    0   120.0      1   1    5   0.0   0  168   0.0   \n",
      "3  5.0    1915     0.0    0  1219.0      0   1    0   0.0   1  104   0.0   \n",
      "4  5.0     338     0.0    0  2042.0      0   1    0   0.0   1  104   0.0   \n",
      "\n",
      "     ALT  ATYPE  ADIAG  SVE  SPIN  AMONTH  ADAY  AYEAR  \n",
      "0  35784      0      0  0.0     0       9    11   1990  \n",
      "1  35784      0      0  0.0     0       4    15   1992  \n",
      "2  54810      0      0  0.0     0      10    27   1987  \n",
      "3  35784      1      1  0.0     0      10     4   1978  \n",
      "4  35784      1      1  0.0     0       6    15   1974  \n"
     ]
    }
   ],
   "source": [
    "import math\n",
    "import numpy as np\n",
    "import pandas as pd\n",
    "import matplotlib.pyplot as plt\n",
    "from sklearn import tree\n",
    "from sklearn.model_selection import train_test_split\n",
    "\n",
    "\n",
    "data = pd.read_csv('anom5j.csv')\n",
    "series = data['ADATE'].str.split('/')\n",
    "data[['AMONTH','ADAY','AYEAR']] = pd.DataFrame(series.values.tolist(), index= data.index)\n",
    "data['AMONTH'] = pd.to_numeric(data['AMONTH'])\n",
    "data['ADAY'] = pd.to_numeric(data['ADAY'])\n",
    "data['AYEAR'] = pd.to_numeric(data['AYEAR'])\n",
    "\n",
    "data_tree = data.drop(['EDATE', 'ADATE', 'ACOMMENT', 'BIRD'], axis=1)\n",
    "\n",
    "labels = data_tree['ORBIT'].unique().tolist()\n",
    "mapping = dict( zip(labels,range(len(labels))) )\n",
    "data_tree.replace({'ORBIT': mapping},inplace=True)\n",
    "\n",
    "labels = data_tree['NS'].unique().tolist()\n",
    "mapping = dict( zip(labels,range(len(labels))) )\n",
    "data_tree.replace({'NS': mapping},inplace=True)\n",
    "\n",
    "labels = data_tree['EW'].unique().tolist()\n",
    "mapping = dict( zip(labels,range(len(labels))) )\n",
    "data_tree.replace({'EW': mapping},inplace=True)\n",
    "\n",
    "labels = data_tree['ATYPE'].unique().tolist()\n",
    "mapping = dict( zip(labels,range(len(labels))) )\n",
    "data_tree.replace({'ATYPE': mapping},inplace=True)\n",
    "\n",
    "labels = data_tree['ADIAG'].unique().tolist()\n",
    "mapping = dict( zip(labels,range(len(labels))) )\n",
    "data_tree.replace({'ADIAG': mapping},inplace=True)\n",
    "\n",
    "labels = data_tree['SPIN'].unique().tolist()\n",
    "mapping = dict( zip(labels,range(len(labels))) )\n",
    "data_tree.replace({'SPIN': mapping},inplace=True)\n",
    "\n",
    "data_tree = data_tree.fillna(0)\n",
    "\n",
    "print(data_tree.head())\n",
    "\n",
    "features = ['STIMEU', 'DUR', 'STIMEL', 'ORBIT', 'NS', 'LAT',\n",
    "       'EW', 'LON', 'ALT', 'SVE', 'SPIN', 'AMONTH', 'ADAY', 'AYEAR']\n",
    "label = 'ATYPE'\n",
    "xtrain, xtest, ytrain, ytest = train_test_split(data_tree[features], data_tree[label], test_size=0.20, random_state=42)\n",
    "\n",
    "#X = data_tree.drop('ATYPE', axis=1)\n",
    "#Y= data_tree['ATYPE']\n",
    "clf=tree.DecisionTreeClassifier()\n",
    "clf=clf.fit(xtrain,ytrain)"
   ]
  },
  {
   "cell_type": "code",
   "execution_count": 24,
   "metadata": {},
   "outputs": [
    {
     "name": "stdout",
     "output_type": "stream",
     "text": [
      "0.8311817279046674\n"
     ]
    }
   ],
   "source": [
    "test_predicted = clf.predict(xtest)\n",
    "test_actual = list(ytest.values)\n",
    "score = 0\n",
    "for i in range(len(test_predicted)):\n",
    "    if test_predicted[i] == test_actual[i]:\n",
    "        score = score + 1\n",
    "score = score / len(test_predicted)\n",
    "print(score)"
   ]
  },
  {
   "cell_type": "code",
   "execution_count": null,
   "metadata": {},
   "outputs": [],
   "source": []
  }
 ],
 "metadata": {
  "kernelspec": {
   "display_name": "Python 3",
   "language": "python",
   "name": "python3"
  },
  "language_info": {
   "codemirror_mode": {
    "name": "ipython",
    "version": 3
   },
   "file_extension": ".py",
   "mimetype": "text/x-python",
   "name": "python",
   "nbconvert_exporter": "python",
   "pygments_lexer": "ipython3",
   "version": "3.7.1"
  }
 },
 "nbformat": 4,
 "nbformat_minor": 2
}
